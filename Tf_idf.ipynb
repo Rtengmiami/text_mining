{
  "nbformat": 4,
  "nbformat_minor": 0,
  "metadata": {
    "colab": {
      "provenance": [],
      "mount_file_id": "1pB0OsdX0d0aPNWirelc5ItJ9H3X7qNMx",
      "authorship_tag": "ABX9TyNiHPs87QV1p9YDTH2JssKz",
      "include_colab_link": true
    },
    "kernelspec": {
      "name": "python3",
      "display_name": "Python 3"
    },
    "language_info": {
      "name": "python"
    }
  },
  "cells": [
    {
      "cell_type": "markdown",
      "metadata": {
        "id": "view-in-github",
        "colab_type": "text"
      },
      "source": [
        "<a href=\"https://colab.research.google.com/github/Rtengmiami/text_mining/blob/main/Tf_idf.ipynb\" target=\"_parent\"><img src=\"https://colab.research.google.com/assets/colab-badge.svg\" alt=\"Open In Colab\"/></a>"
      ]
    },
    {
      "cell_type": "code",
      "execution_count": 194,
      "metadata": {
        "id": "nf4l2JlKG7bm"
      },
      "outputs": [],
      "source": [
        "import numpy as np\n",
        "import pandas as pd\n",
        "import matplotlib.pyplot as plt\n",
        "import seaborn as sns\n",
        "import re\n",
        "from collections import Counter\n",
        "import math"
      ]
    },
    {
      "cell_type": "code",
      "source": [
        "from google.colab import drive\n",
        "drive.mount('/content/drive')"
      ],
      "metadata": {
        "id": "gNsGxFilvazV",
        "colab": {
          "base_uri": "https://localhost:8080/"
        },
        "outputId": "946a660f-70bf-4572-f269-d406cf06769e"
      },
      "execution_count": 195,
      "outputs": [
        {
          "output_type": "stream",
          "name": "stdout",
          "text": [
            "Drive already mounted at /content/drive; to attempt to forcibly remount, call drive.mount(\"/content/drive\", force_remount=True).\n"
          ]
        }
      ]
    },
    {
      "cell_type": "markdown",
      "source": [
        "##Data Processing"
      ],
      "metadata": {
        "id": "QByssL6C4aNU"
      }
    },
    {
      "cell_type": "code",
      "source": [
        "df = pd.read_csv('/content/drive/MyDrive/NTUST/111-2/AI and analyst/elon_musk_tweets_solve.csv',encoding= 'unicode_escape')\n",
        "#去除網站\n",
        "df= df['text'].apply(lambda x: re.split('https:\\/\\/.*', str(x))[0])\n",
        "df"
      ],
      "metadata": {
        "colab": {
          "base_uri": "https://localhost:8080/"
        },
        "id": "piy593N8jA4Q",
        "outputId": "e750820f-bb41-4b65-e88f-e8fffbaed23e"
      },
      "execution_count": 196,
      "outputs": [
        {
          "output_type": "execute_result",
          "data": {
            "text/plain": [
              "0       @BillyM2k I find the gold toe sock  inevitably...\n",
              "1                      Sock Con, the conference for socks\n",
              "2       Always something new for the magazine cover an...\n",
              "3                        @ExplainThisBob This guy gets it\n",
              "4       Sock tech is so advanced that you can get pret...\n",
              "                              ...                        \n",
              "3497    @KanekoaTheGreat @DavidSacks @amuse Major problem\n",
              "3498                                   @micsolana Exactly\n",
              "3499                         @masegoslin @Tesla Nice work\n",
              "3500                                 @JaromeBellVA Agreed\n",
              "3501                                 @tobyordoxford Yikes\n",
              "Name: text, Length: 3502, dtype: object"
            ]
          },
          "metadata": {},
          "execution_count": 196
        }
      ]
    },
    {
      "cell_type": "code",
      "source": [
        "#分詞後存在double list\n",
        "def flatten_list(lst):\n",
        "    result = []\n",
        "    for elem in lst:\n",
        "        if isinstance(elem, list):\n",
        "            result.extend(flatten_list(elem))\n",
        "        else:\n",
        "            result.append(elem)\n",
        "    return result"
      ],
      "metadata": {
        "id": "KKO2c6UyzdXT"
      },
      "execution_count": 197,
      "outputs": []
    },
    {
      "cell_type": "code",
      "source": [
        "#計算每一句總詞數\n",
        "text= [d for d in df]\n",
        "idf_count={}\n",
        "dict1_tf = {}\n",
        "num = 0\n",
        "\n",
        "for i in text: \n",
        "  tf={}\n",
        "  words = \"\".join(i.lower()).split()\n",
        "  words_count = Counter(words)\n",
        "  for word,count in words_count.items():\n",
        "    if word not in tf:\n",
        "      tf[word]=[]\n",
        "    if word in tf:\n",
        "      tf[word]=count/len(words)\n",
        "    if word not in idf_count:\n",
        "      idf_count[word]=[]\n",
        "    if word in idf_count:\n",
        "      if count>1:\n",
        "        count=1\n",
        "      idf_count[word]=count     \n",
        "     \n",
        "  dict1_tf[num]=tf\n",
        "  num+=1\n",
        "idf = idf_count.copy()\n",
        "#出來有完整tf idf的次數\n",
        "for k,v in idf.items():\n",
        "  idf[k]=math.log(len(text)/v)\n",
        "#tf x idf\n",
        "for key in dict1_tf:\n",
        "  for subkey in dict1_tf[key]:\n",
        "    if subkey in idf:\n",
        "      dict1_tf[key][subkey]*=idf[subkey]"
      ],
      "metadata": {
        "id": "NE5MI-fHRZdt"
      },
      "execution_count": 199,
      "outputs": []
    },
    {
      "cell_type": "code",
      "source": [
        "#從tf x idf 結果中找出top20\n",
        "top_count=Counter()\n",
        "for sub_dict in dict1_tf.values():\n",
        "  top_count.update(sub_dict)\n",
        "sort_result = sorted(top_count.items(),key = lambda x:x[1],reverse= True)\n",
        "\n",
        "top10 =sort_result[0:100]\n",
        "x_data = [item[0] for item in top10]\n",
        "y_data = [item[1] for item in top10]\n",
        "\n"
      ],
      "metadata": {
        "id": "FJpNfS2rFDAA"
      },
      "execution_count": 207,
      "outputs": []
    },
    {
      "cell_type": "code",
      "source": [
        "plt.figure(figsize=(16,6))\n",
        "plt.xticks(rotation=45)\n",
        "plt.title('Top Words in Elon s Twitter')\n",
        "plt.xlabel('Words')\n",
        "plt.ylabel('Tf x idf')\n",
        "\n",
        "plt.bar(x_data,y_data)"
      ],
      "metadata": {
        "colab": {
          "base_uri": "https://localhost:8080/",
          "height": 479
        },
        "id": "lXov0wI_G2oV",
        "outputId": "772923b4-ba8d-4202-831d-bf181864fa84"
      },
      "execution_count": 208,
      "outputs": [
        {
          "output_type": "execute_result",
          "data": {
            "text/plain": [
              "<BarContainer object of 40 artists>"
            ]
          },
          "metadata": {},
          "execution_count": 208
        },
        {
          "output_type": "display_data",
          "data": {
            "text/plain": [
              "<Figure size 1152x432 with 1 Axes>"
            ],
            "image/png": "[encoded data removed]"
          },
          "metadata": {
            "needs_background": "light"
          }
        }
      ]
    },
    {
      "cell_type": "code",
      "source": [],
      "metadata": {
        "id": "947mxlXyNksk"
      },
      "execution_count": null,
      "outputs": []
    }
  ]
}